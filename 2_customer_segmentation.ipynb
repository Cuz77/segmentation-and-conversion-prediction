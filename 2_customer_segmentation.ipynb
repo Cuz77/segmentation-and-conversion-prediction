{
 "cells": [
  {
   "cell_type": "markdown",
   "id": "f639649d",
   "metadata": {},
   "source": [
    "# Part 2. Segmentation"
   ]
  },
  {
   "cell_type": "markdown",
   "id": "60b9b799",
   "metadata": {},
   "source": [
    "This a a second part of the project, first part of which has been handled in the 1_data_analysis_and_cleaning file. Here, we will reduce the dimentionality of the dataset as well as create clusters to find out the most prospective target for the mailing campaign."
   ]
  },
  {
   "cell_type": "markdown",
   "id": "709a5fb2",
   "metadata": {},
   "source": [
    "### PCA"
   ]
  },
  {
   "cell_type": "markdown",
   "id": "d96ed42f",
   "metadata": {},
   "source": [
    "Often, when constructing a customer segmentation framework, it's imperative to ascertain a particular level of clarity so that business stakeholders can easily understand the division and marketing teams can create personas. In this instance, however, the ultimate goal of segmentation is the task at hand - prediction for the mailing campaign. This, combined with the muli-dimension dataset means that will perform dimensionality reduction using the PCA method.\n",
    "\n",
    "\n",
    "This, combined with the multi-dimension dataset convinced us to perform dimensionality reduction using the PCA method."
   ]
  },
  {
   "cell_type": "code",
   "execution_count": 1,
   "id": "d8456480",
   "metadata": {},
   "outputs": [],
   "source": [
    "# import misc libraries\n",
    "import pandas as pd\n",
    "import numpy as np\n",
    "import matplotlib.pyplot as plt\n",
    "\n",
    "# import ML libraries\n",
    "from sklearn import preprocessing\n",
    "from sklearn.cluster import KMeans\n",
    "from sklearn.decomposition import PCA\n",
    "from sklearn.pipeline import Pipeline\n",
    "from sklearn.preprocessing import StandardScaler"
   ]
  },
  {
   "cell_type": "code",
   "execution_count": 2,
   "id": "c78ad3be",
   "metadata": {},
   "outputs": [],
   "source": [
    "customers = pd.read_csv('dataset/customers_clean.csv')\n",
    "azdias = pd.read_csv('dataset/azdias_clean.csv')"
   ]
  },
  {
   "cell_type": "code",
   "execution_count": 3,
   "id": "c3992f56",
   "metadata": {},
   "outputs": [
    {
     "data": {
      "text/html": [
       "<div>\n",
       "<style scoped>\n",
       "    .dataframe tbody tr th:only-of-type {\n",
       "        vertical-align: middle;\n",
       "    }\n",
       "\n",
       "    .dataframe tbody tr th {\n",
       "        vertical-align: top;\n",
       "    }\n",
       "\n",
       "    .dataframe thead th {\n",
       "        text-align: right;\n",
       "    }\n",
       "</style>\n",
       "<table border=\"1\" class=\"dataframe\">\n",
       "  <thead>\n",
       "    <tr style=\"text-align: right;\">\n",
       "      <th></th>\n",
       "      <th>DSL_FLAG</th>\n",
       "      <th>GREEN_AVANTGARDE</th>\n",
       "      <th>HH_DELTA_FLAG</th>\n",
       "      <th>KONSUMZELLE</th>\n",
       "      <th>is_osten</th>\n",
       "      <th>SOHO_KZ</th>\n",
       "      <th>UNGLEICHENN_FLAG</th>\n",
       "      <th>ANREDE_KZ</th>\n",
       "      <th>CAMEO_INTL_2015_dummy_12.0</th>\n",
       "      <th>CAMEO_INTL_2015_dummy_13.0</th>\n",
       "      <th>...</th>\n",
       "      <th>VHA</th>\n",
       "      <th>VHN</th>\n",
       "      <th>VK_DHT4A</th>\n",
       "      <th>VK_DISTANZ</th>\n",
       "      <th>VK_ZG11</th>\n",
       "      <th>W_KEIT_KIND_HH</th>\n",
       "      <th>WOHNDAUER_2008</th>\n",
       "      <th>WOHNLAGE</th>\n",
       "      <th>ZABEOTYP</th>\n",
       "      <th>ALTERSKATEGORIE_GROB</th>\n",
       "    </tr>\n",
       "  </thead>\n",
       "  <tbody>\n",
       "    <tr>\n",
       "      <th>0</th>\n",
       "      <td>1.0</td>\n",
       "      <td>0</td>\n",
       "      <td>0.0</td>\n",
       "      <td>1.0</td>\n",
       "      <td>1.0</td>\n",
       "      <td>1.0</td>\n",
       "      <td>1.0</td>\n",
       "      <td>2</td>\n",
       "      <td>0</td>\n",
       "      <td>0</td>\n",
       "      <td>...</td>\n",
       "      <td>-0.387156</td>\n",
       "      <td>1.363963</td>\n",
       "      <td>0.684573</td>\n",
       "      <td>1.056015</td>\n",
       "      <td>1.456923</td>\n",
       "      <td>-5.717081e-01</td>\n",
       "      <td>0.548477</td>\n",
       "      <td>-0.027165</td>\n",
       "      <td>1.138410</td>\n",
       "      <td>-1.683646</td>\n",
       "    </tr>\n",
       "    <tr>\n",
       "      <th>1</th>\n",
       "      <td>1.0</td>\n",
       "      <td>1</td>\n",
       "      <td>0.0</td>\n",
       "      <td>0.0</td>\n",
       "      <td>1.0</td>\n",
       "      <td>0.0</td>\n",
       "      <td>0.0</td>\n",
       "      <td>2</td>\n",
       "      <td>0</td>\n",
       "      <td>0</td>\n",
       "      <td>...</td>\n",
       "      <td>-0.387156</td>\n",
       "      <td>-0.363880</td>\n",
       "      <td>1.034748</td>\n",
       "      <td>0.442084</td>\n",
       "      <td>0.020864</td>\n",
       "      <td>-5.717081e-01</td>\n",
       "      <td>0.548477</td>\n",
       "      <td>-1.085200</td>\n",
       "      <td>1.138410</td>\n",
       "      <td>0.164528</td>\n",
       "    </tr>\n",
       "    <tr>\n",
       "      <th>2</th>\n",
       "      <td>1.0</td>\n",
       "      <td>0</td>\n",
       "      <td>0.0</td>\n",
       "      <td>0.0</td>\n",
       "      <td>1.0</td>\n",
       "      <td>0.0</td>\n",
       "      <td>0.0</td>\n",
       "      <td>2</td>\n",
       "      <td>1</td>\n",
       "      <td>0</td>\n",
       "      <td>...</td>\n",
       "      <td>0.480524</td>\n",
       "      <td>-2.091723</td>\n",
       "      <td>0.334399</td>\n",
       "      <td>0.749049</td>\n",
       "      <td>1.815938</td>\n",
       "      <td>4.791145e-16</td>\n",
       "      <td>0.548477</td>\n",
       "      <td>1.559887</td>\n",
       "      <td>-0.286034</td>\n",
       "      <td>1.088616</td>\n",
       "    </tr>\n",
       "    <tr>\n",
       "      <th>3</th>\n",
       "      <td>1.0</td>\n",
       "      <td>0</td>\n",
       "      <td>0.0</td>\n",
       "      <td>0.0</td>\n",
       "      <td>1.0</td>\n",
       "      <td>0.0</td>\n",
       "      <td>0.0</td>\n",
       "      <td>1</td>\n",
       "      <td>0</td>\n",
       "      <td>0</td>\n",
       "      <td>...</td>\n",
       "      <td>-0.387156</td>\n",
       "      <td>-0.363880</td>\n",
       "      <td>-1.066298</td>\n",
       "      <td>-0.785778</td>\n",
       "      <td>-0.697165</td>\n",
       "      <td>-1.111143e+00</td>\n",
       "      <td>0.548477</td>\n",
       "      <td>-0.556183</td>\n",
       "      <td>0.426188</td>\n",
       "      <td>0.164528</td>\n",
       "    </tr>\n",
       "    <tr>\n",
       "      <th>4</th>\n",
       "      <td>1.0</td>\n",
       "      <td>0</td>\n",
       "      <td>0.0</td>\n",
       "      <td>0.0</td>\n",
       "      <td>1.0</td>\n",
       "      <td>0.0</td>\n",
       "      <td>0.0</td>\n",
       "      <td>2</td>\n",
       "      <td>0</td>\n",
       "      <td>0</td>\n",
       "      <td>...</td>\n",
       "      <td>-0.387156</td>\n",
       "      <td>-0.363880</td>\n",
       "      <td>1.384922</td>\n",
       "      <td>-0.171847</td>\n",
       "      <td>-0.697165</td>\n",
       "      <td>1.046597e+00</td>\n",
       "      <td>0.548477</td>\n",
       "      <td>1.559887</td>\n",
       "      <td>0.426188</td>\n",
       "      <td>-1.683646</td>\n",
       "    </tr>\n",
       "  </tbody>\n",
       "</table>\n",
       "<p>5 rows × 438 columns</p>\n",
       "</div>"
      ],
      "text/plain": [
       "   DSL_FLAG  GREEN_AVANTGARDE  HH_DELTA_FLAG  KONSUMZELLE  is_osten  SOHO_KZ  \\\n",
       "0       1.0                 0            0.0          1.0       1.0      1.0   \n",
       "1       1.0                 1            0.0          0.0       1.0      0.0   \n",
       "2       1.0                 0            0.0          0.0       1.0      0.0   \n",
       "3       1.0                 0            0.0          0.0       1.0      0.0   \n",
       "4       1.0                 0            0.0          0.0       1.0      0.0   \n",
       "\n",
       "   UNGLEICHENN_FLAG  ANREDE_KZ  CAMEO_INTL_2015_dummy_12.0  \\\n",
       "0               1.0          2                           0   \n",
       "1               0.0          2                           0   \n",
       "2               0.0          2                           1   \n",
       "3               0.0          1                           0   \n",
       "4               0.0          2                           0   \n",
       "\n",
       "   CAMEO_INTL_2015_dummy_13.0  ...       VHA       VHN  VK_DHT4A  VK_DISTANZ  \\\n",
       "0                           0  ... -0.387156  1.363963  0.684573    1.056015   \n",
       "1                           0  ... -0.387156 -0.363880  1.034748    0.442084   \n",
       "2                           0  ...  0.480524 -2.091723  0.334399    0.749049   \n",
       "3                           0  ... -0.387156 -0.363880 -1.066298   -0.785778   \n",
       "4                           0  ... -0.387156 -0.363880  1.384922   -0.171847   \n",
       "\n",
       "    VK_ZG11  W_KEIT_KIND_HH  WOHNDAUER_2008  WOHNLAGE  ZABEOTYP  \\\n",
       "0  1.456923   -5.717081e-01        0.548477 -0.027165  1.138410   \n",
       "1  0.020864   -5.717081e-01        0.548477 -1.085200  1.138410   \n",
       "2  1.815938    4.791145e-16        0.548477  1.559887 -0.286034   \n",
       "3 -0.697165   -1.111143e+00        0.548477 -0.556183  0.426188   \n",
       "4 -0.697165    1.046597e+00        0.548477  1.559887  0.426188   \n",
       "\n",
       "   ALTERSKATEGORIE_GROB  \n",
       "0             -1.683646  \n",
       "1              0.164528  \n",
       "2              1.088616  \n",
       "3              0.164528  \n",
       "4             -1.683646  \n",
       "\n",
       "[5 rows x 438 columns]"
      ]
     },
     "execution_count": 3,
     "metadata": {},
     "output_type": "execute_result"
    }
   ],
   "source": [
    "azdias.head()"
   ]
  },
  {
   "cell_type": "markdown",
   "id": "c8fbe411",
   "metadata": {},
   "source": [
    "Start with fittin PCA on the dataset."
   ]
  },
  {
   "cell_type": "code",
   "execution_count": 4,
   "id": "3cc7263b",
   "metadata": {},
   "outputs": [
    {
     "data": {
      "text/html": [
       "<style>#sk-container-id-1 {color: black;}#sk-container-id-1 pre{padding: 0;}#sk-container-id-1 div.sk-toggleable {background-color: white;}#sk-container-id-1 label.sk-toggleable__label {cursor: pointer;display: block;width: 100%;margin-bottom: 0;padding: 0.3em;box-sizing: border-box;text-align: center;}#sk-container-id-1 label.sk-toggleable__label-arrow:before {content: \"▸\";float: left;margin-right: 0.25em;color: #696969;}#sk-container-id-1 label.sk-toggleable__label-arrow:hover:before {color: black;}#sk-container-id-1 div.sk-estimator:hover label.sk-toggleable__label-arrow:before {color: black;}#sk-container-id-1 div.sk-toggleable__content {max-height: 0;max-width: 0;overflow: hidden;text-align: left;background-color: #f0f8ff;}#sk-container-id-1 div.sk-toggleable__content pre {margin: 0.2em;color: black;border-radius: 0.25em;background-color: #f0f8ff;}#sk-container-id-1 input.sk-toggleable__control:checked~div.sk-toggleable__content {max-height: 200px;max-width: 100%;overflow: auto;}#sk-container-id-1 input.sk-toggleable__control:checked~label.sk-toggleable__label-arrow:before {content: \"▾\";}#sk-container-id-1 div.sk-estimator input.sk-toggleable__control:checked~label.sk-toggleable__label {background-color: #d4ebff;}#sk-container-id-1 div.sk-label input.sk-toggleable__control:checked~label.sk-toggleable__label {background-color: #d4ebff;}#sk-container-id-1 input.sk-hidden--visually {border: 0;clip: rect(1px 1px 1px 1px);clip: rect(1px, 1px, 1px, 1px);height: 1px;margin: -1px;overflow: hidden;padding: 0;position: absolute;width: 1px;}#sk-container-id-1 div.sk-estimator {font-family: monospace;background-color: #f0f8ff;border: 1px dotted black;border-radius: 0.25em;box-sizing: border-box;margin-bottom: 0.5em;}#sk-container-id-1 div.sk-estimator:hover {background-color: #d4ebff;}#sk-container-id-1 div.sk-parallel-item::after {content: \"\";width: 100%;border-bottom: 1px solid gray;flex-grow: 1;}#sk-container-id-1 div.sk-label:hover label.sk-toggleable__label {background-color: #d4ebff;}#sk-container-id-1 div.sk-serial::before {content: \"\";position: absolute;border-left: 1px solid gray;box-sizing: border-box;top: 0;bottom: 0;left: 50%;z-index: 0;}#sk-container-id-1 div.sk-serial {display: flex;flex-direction: column;align-items: center;background-color: white;padding-right: 0.2em;padding-left: 0.2em;position: relative;}#sk-container-id-1 div.sk-item {position: relative;z-index: 1;}#sk-container-id-1 div.sk-parallel {display: flex;align-items: stretch;justify-content: center;background-color: white;position: relative;}#sk-container-id-1 div.sk-item::before, #sk-container-id-1 div.sk-parallel-item::before {content: \"\";position: absolute;border-left: 1px solid gray;box-sizing: border-box;top: 0;bottom: 0;left: 50%;z-index: -1;}#sk-container-id-1 div.sk-parallel-item {display: flex;flex-direction: column;z-index: 1;position: relative;background-color: white;}#sk-container-id-1 div.sk-parallel-item:first-child::after {align-self: flex-end;width: 50%;}#sk-container-id-1 div.sk-parallel-item:last-child::after {align-self: flex-start;width: 50%;}#sk-container-id-1 div.sk-parallel-item:only-child::after {width: 0;}#sk-container-id-1 div.sk-dashed-wrapped {border: 1px dashed gray;margin: 0 0.4em 0.5em 0.4em;box-sizing: border-box;padding-bottom: 0.4em;background-color: white;}#sk-container-id-1 div.sk-label label {font-family: monospace;font-weight: bold;display: inline-block;line-height: 1.2em;}#sk-container-id-1 div.sk-label-container {text-align: center;}#sk-container-id-1 div.sk-container {/* jupyter's `normalize.less` sets `[hidden] { display: none; }` but bootstrap.min.css set `[hidden] { display: none !important; }` so we also need the `!important` here to be able to override the default hidden behavior on the sphinx rendered scikit-learn.org. See: https://github.com/scikit-learn/scikit-learn/issues/21755 */display: inline-block !important;position: relative;}#sk-container-id-1 div.sk-text-repr-fallback {display: none;}</style><div id=\"sk-container-id-1\" class=\"sk-top-container\"><div class=\"sk-text-repr-fallback\"><pre>PCA()</pre><b>In a Jupyter environment, please rerun this cell to show the HTML representation or trust the notebook. <br />On GitHub, the HTML representation is unable to render, please try loading this page with nbviewer.org.</b></div><div class=\"sk-container\" hidden><div class=\"sk-item\"><div class=\"sk-estimator sk-toggleable\"><input class=\"sk-toggleable__control sk-hidden--visually\" id=\"sk-estimator-id-1\" type=\"checkbox\" checked><label for=\"sk-estimator-id-1\" class=\"sk-toggleable__label sk-toggleable__label-arrow\">PCA</label><div class=\"sk-toggleable__content\"><pre>PCA()</pre></div></div></div></div></div>"
      ],
      "text/plain": [
       "PCA()"
      ]
     },
     "execution_count": 4,
     "metadata": {},
     "output_type": "execute_result"
    }
   ],
   "source": [
    "pca = PCA()\n",
    "pca.fit(azdias)"
   ]
  },
  {
   "cell_type": "code",
   "execution_count": 5,
   "id": "2d2b89d0",
   "metadata": {},
   "outputs": [],
   "source": [
    "# get the incremental variance explained\n",
    "explained_variance = np.cumsum(pca.explained_variance_ratio_)"
   ]
  },
  {
   "cell_type": "markdown",
   "id": "2db1cbed",
   "metadata": {},
   "source": [
    "With that, we can decide on how many components to keep based on variance incrementally exaplained with more components. \n",
    "\n",
    "After fitting PCA on the dataset we plot the cumulative variance explained by including more components to decide how many of them we need."
   ]
  },
  {
   "cell_type": "code",
   "execution_count": 6,
   "id": "d4d181d6",
   "metadata": {},
   "outputs": [
    {
     "data": {
      "image/png": "[encoded data removed]",
      "text/plain": [
       "<Figure size 432x288 with 1 Axes>"
      ]
     },
     "metadata": {
      "needs_background": "light"
     },
     "output_type": "display_data"
    }
   ],
   "source": [
    "plt.plot(explained_variance)\n",
    "plt.title('Explained Incremental Variance')\n",
    "plt.xlabel('Number of Components')\n",
    "plt.ylabel('Cumulative Explained Variance')\n",
    "\n",
    "plt.show()"
   ]
  },
  {
   "cell_type": "code",
   "execution_count": 7,
   "id": "d0fed3a3",
   "metadata": {},
   "outputs": [
    {
     "name": "stdout",
     "output_type": "stream",
     "text": [
      "Out of 438 features, 165 components explain 90% of variance in the dataset\n"
     ]
    }
   ],
   "source": [
    "print(f'Out of {azdias.shape[1]} features, {sum(explained_variance < .9)} components explain 90% of variance in the dataset')"
   ]
  },
  {
   "cell_type": "code",
   "execution_count": 8,
   "id": "558d5755",
   "metadata": {},
   "outputs": [
    {
     "name": "stdout",
     "output_type": "stream",
     "text": [
      "Top 3 components explain 20.8% of variability\n"
     ]
    }
   ],
   "source": [
    "print(f'Top 3 components explain {explained_variance[2]:.1%} of variability')"
   ]
  },
  {
   "cell_type": "markdown",
   "id": "c69d2503",
   "metadata": {},
   "source": [
    "Knowing that, we can decide on keeping top 90% components and reapplying PCA with this parameter."
   ]
  },
  {
   "cell_type": "code",
   "execution_count": 9,
   "id": "04a0f9d6",
   "metadata": {},
   "outputs": [],
   "source": [
    "n_components = sum(explained_variance < .9)\n",
    "pca = PCA(n_components=n_components)\n",
    "azdias_pca = pca.fit_transform(azdias)"
   ]
  },
  {
   "cell_type": "code",
   "execution_count": 11,
   "id": "36b19c0e",
   "metadata": {},
   "outputs": [],
   "source": [
    "def plot_component_weights(pca, component, cols, n=3):\n",
    "    '''\n",
    "    Plots top and bottom n  for a given PCA component.\n",
    "    \n",
    "    INPUT:\n",
    "     - pca (PCA object): PCA object\n",
    "     - component (int): the component index\n",
    "     - cols (columns of the ): a list of column names from the dataframe before fitting PCA\n",
    "     - n (int): number of top and bottom items to plot\n",
    "     \n",
    "    OUTPUT:\n",
    "     - None\n",
    "    '''\n",
    "    # get top and bottom n weights for a given component\n",
    "    top = pd.DataFrame(pca.components_[component], index=cols, columns=['weight']).sort_values(by='weight').head(n)\n",
    "    bottom = pd.DataFrame(pca.components_[component], index=cols, columns=['weight']).sort_values(by='weight').tail(n)\n",
    "    df = pd.concat([top, bottom], axis=0)\n",
    "    \n",
    "    # plot the results\n",
    "    plt.barh(df.index, df['weight'])\n",
    "    plt.show()\n",
    "    \n",
    "    return None"
   ]
  },
  {
   "cell_type": "markdown",
   "id": "7e13a649",
   "metadata": {},
   "source": [
    "The first component (explaining 10% of variance) is mostly determined by the car person owns (KBA) and economic (LP_STATUS_GROB) and social (LP_STATUS_FEIN) status. The car is an interesting addition but we may assume that the car owned by a person is correlated with income. After all, socioeconomic factors are usually the leading factors for market segmentation. Similarly, MOBI_REGIO, which indicates mobility, should be correlated with car usage."
   ]
  },
  {
   "cell_type": "code",
   "execution_count": 12,
   "id": "a1dda53d",
   "metadata": {},
   "outputs": [
    {
     "data": {
      "image/png": "[encoded data removed]",
      "text/plain": [
       "<Figure size 432x288 with 1 Axes>"
      ]
     },
     "metadata": {
      "needs_background": "light"
     },
     "output_type": "display_data"
    }
   ],
   "source": [
    "plot_component_weights(pca, 0, azdias.columns, n=5)"
   ]
  },
  {
   "cell_type": "code",
   "execution_count": 13,
   "id": "1f9f68fc",
   "metadata": {},
   "outputs": [
    {
     "data": {
      "image/png": "[encoded data removed]",
      "text/plain": [
       "<Figure size 432x288 with 1 Axes>"
      ]
     },
     "metadata": {
      "needs_background": "light"
     },
     "output_type": "display_data"
    }
   ],
   "source": [
    "plot_component_weights(pca, 1, azdias.columns, n=5)"
   ]
  },
  {
   "cell_type": "code",
   "execution_count": 14,
   "id": "00fa67d0",
   "metadata": {},
   "outputs": [
    {
     "data": {
      "image/png": "[encoded data removed]",
      "text/plain": [
       "<Figure size 432x288 with 1 Axes>"
      ]
     },
     "metadata": {
      "needs_background": "light"
     },
     "output_type": "display_data"
    }
   ],
   "source": [
    "plot_component_weights(pca, 2, azdias.columns, n=5)"
   ]
  },
  {
   "cell_type": "markdown",
   "id": "e97bd592",
   "metadata": {},
   "source": [
    "### K-means clustering"
   ]
  },
  {
   "cell_type": "markdown",
   "id": "c270a5f0",
   "metadata": {},
   "source": [
    "K-means clustering is an unsupervised ML algorithm which makes it perfect when we don't exactly know what clusters data points should end up in. It's by far the most popular algorithm for unsupervised clustering problems. It’s also proper when following the MECE rule (mutually exclusive - collectively exhaustive) which means that each customer needs to belong to exactly one segment. If, on the other hand, we would like to try to make customers fit to many different segments, we could use the Hidden Markov Model (HMM).\n",
    "\n",
    "Alternatively, we could also use Agglomerative Hierarchical Clustering which iteratively merges clusters by their similarity, starting with each data point being its own cluster. Its advantages are that it provides granular information on any data point and it is not sensitive to outliers, which gives it a great descriptive utility. We might not want to do it here though cause it's slow and not optimal for predicting on new instances.\n",
    "\n",
    "Let's stick to K-means clustering."
   ]
  },
  {
   "cell_type": "markdown",
   "id": "2ac57145",
   "metadata": {},
   "source": [
    "In order to decide on how many clusters we even want, we need to employ the elbow method. It involves plotting the explained variation as a function of the number of clusters and picking the elbow of the curve to spot the sweet spot between relatively low numbers of clusters which make the biggest difference. The function measures drop in inertia, being a measure of how internally coherent clusters are. The inertia formula quantifies how close the data points are to their centroid. The lower the value, the denser the cluster."
   ]
  },
  {
   "cell_type": "code",
   "execution_count": 15,
   "id": "c5f9ef9c",
   "metadata": {},
   "outputs": [
    {
     "name": "stdout",
     "output_type": "stream",
     "text": [
      "Done 10 out of 44.\n",
      "Done 20 out of 44.\n",
      "Done 30 out of 44.\n",
      "Done 40 out of 44.\n",
      "Done all.\n"
     ]
    }
   ],
   "source": [
    "# check number of clusters for elbow method\n",
    "sse = []\n",
    "params = [x for x in range(1, 45)]\n",
    "\n",
    "for i in params:\n",
    "    km = KMeans(n_clusters=i, n_init=10)\n",
    "    km.fit(azdias_pca[:25000])\n",
    "    sse.append(km.inertia_)\n",
    "    print(f'Done {i} out of {len(params)}.') if i % 10 == 0 else None\n",
    "    print(f'Done all.') if i == len(params) else None\n"
   ]
  },
  {
   "cell_type": "code",
   "execution_count": 19,
   "id": "b031e0f4",
   "metadata": {},
   "outputs": [
    {
     "data": {
      "image/png": "[encoded data removed]",
      "text/plain": [
       "<Figure size 1080x360 with 1 Axes>"
      ]
     },
     "metadata": {
      "needs_background": "light"
     },
     "output_type": "display_data"
    }
   ],
   "source": [
    "# print elbow chart\n",
    "plt.figure(figsize=(15,5))\n",
    "plt.plot(params, sse, linestyle= \"-\",marker = \"x\", color=\"orange\")\n",
    "plt.title('Elbow method for Kmeans clustering')\n",
    "plt.ylabel('Distance from the centroids')\n",
    "plt.xlabel('Number of clusters')\n",
    "plt.xticks(params)\n",
    "plt.show()"
   ]
  },
  {
   "cell_type": "markdown",
   "id": "77f9b71e",
   "metadata": {},
   "source": [
    "We see a sharp decline around 6 clusters and then a steady downward slope. In my opinion selecting the proper number of clusters might be more of an art than science depending on the business needs. After careful consideration, I’ve decided to go with 11 clusters."
   ]
  },
  {
   "cell_type": "code",
   "execution_count": 20,
   "id": "b714b56f",
   "metadata": {},
   "outputs": [],
   "source": [
    "n_clusters = 11"
   ]
  },
  {
   "cell_type": "code",
   "execution_count": 25,
   "id": "59b666c6",
   "metadata": {},
   "outputs": [],
   "source": [
    "# create a Pipeline object\n",
    "pipeline = Pipeline([\n",
    "    ('pca', PCA(n_components=n_components)),\n",
    "    ('cluster', KMeans(n_clusters=n_clusters, n_init=10))\n",
    "])"
   ]
  },
  {
   "cell_type": "code",
   "execution_count": 26,
   "id": "b54ee074",
   "metadata": {},
   "outputs": [],
   "source": [
    "# Fit the pipeline on the general German population\n",
    "pipeline.fit(azdias)\n",
    "azdias_clustered = pd.DataFrame(pipeline.predict(azdias), columns=['cluster'])"
   ]
  },
  {
   "cell_type": "code",
   "execution_count": 27,
   "id": "8274a810",
   "metadata": {},
   "outputs": [
    {
     "data": {
      "text/html": [
       "<div>\n",
       "<style scoped>\n",
       "    .dataframe tbody tr th:only-of-type {\n",
       "        vertical-align: middle;\n",
       "    }\n",
       "\n",
       "    .dataframe tbody tr th {\n",
       "        vertical-align: top;\n",
       "    }\n",
       "\n",
       "    .dataframe thead th {\n",
       "        text-align: right;\n",
       "    }\n",
       "</style>\n",
       "<table border=\"1\" class=\"dataframe\">\n",
       "  <thead>\n",
       "    <tr style=\"text-align: right;\">\n",
       "      <th></th>\n",
       "      <th>cluster</th>\n",
       "    </tr>\n",
       "  </thead>\n",
       "  <tbody>\n",
       "    <tr>\n",
       "      <th>0</th>\n",
       "      <td>1</td>\n",
       "    </tr>\n",
       "    <tr>\n",
       "      <th>1</th>\n",
       "      <td>1</td>\n",
       "    </tr>\n",
       "    <tr>\n",
       "      <th>2</th>\n",
       "      <td>5</td>\n",
       "    </tr>\n",
       "    <tr>\n",
       "      <th>3</th>\n",
       "      <td>0</td>\n",
       "    </tr>\n",
       "    <tr>\n",
       "      <th>4</th>\n",
       "      <td>5</td>\n",
       "    </tr>\n",
       "  </tbody>\n",
       "</table>\n",
       "</div>"
      ],
      "text/plain": [
       "   cluster\n",
       "0        1\n",
       "1        1\n",
       "2        5\n",
       "3        0\n",
       "4        5"
      ]
     },
     "execution_count": 27,
     "metadata": {},
     "output_type": "execute_result"
    }
   ],
   "source": [
    "azdias_clustered.head()"
   ]
  },
  {
   "cell_type": "code",
   "execution_count": 28,
   "id": "10dc2a9b",
   "metadata": {},
   "outputs": [],
   "source": [
    "# Fit the pipeline on the customers dataset\n",
    "customers = pd.read_csv('dataset/customers_clean.csv')\n",
    "customers_clean = customers.drop(columns=['CUSTOMER_GROUP', 'ONLINE_PURCHASE', 'PRODUCT_GROUP'])\n",
    "customers_clean = customers_clean[azdias.columns]      # make sure columns are identically ordered \n",
    "customers_clustered = pd.DataFrame(pipeline.predict(customers_clean), columns=['cluster'])"
   ]
  },
  {
   "cell_type": "code",
   "execution_count": 33,
   "id": "703156ac",
   "metadata": {},
   "outputs": [],
   "source": [
    "# pickle clusters for later use\n",
    "azdias_clustered.to_pickle('dataset/azdias_clustered.pkl')\n",
    "customers_clustered.to_pickle('dataset/customers_clustered.pkl')"
   ]
  },
  {
   "cell_type": "code",
   "execution_count": 35,
   "id": "c3466306",
   "metadata": {},
   "outputs": [
    {
     "data": {
      "text/html": [
       "<div>\n",
       "<style scoped>\n",
       "    .dataframe tbody tr th:only-of-type {\n",
       "        vertical-align: middle;\n",
       "    }\n",
       "\n",
       "    .dataframe tbody tr th {\n",
       "        vertical-align: top;\n",
       "    }\n",
       "\n",
       "    .dataframe thead th {\n",
       "        text-align: right;\n",
       "    }\n",
       "</style>\n",
       "<table border=\"1\" class=\"dataframe\">\n",
       "  <thead>\n",
       "    <tr style=\"text-align: right;\">\n",
       "      <th></th>\n",
       "      <th>cluster</th>\n",
       "    </tr>\n",
       "  </thead>\n",
       "  <tbody>\n",
       "    <tr>\n",
       "      <th>0</th>\n",
       "      <td>1</td>\n",
       "    </tr>\n",
       "    <tr>\n",
       "      <th>1</th>\n",
       "      <td>1</td>\n",
       "    </tr>\n",
       "    <tr>\n",
       "      <th>2</th>\n",
       "      <td>5</td>\n",
       "    </tr>\n",
       "    <tr>\n",
       "      <th>3</th>\n",
       "      <td>0</td>\n",
       "    </tr>\n",
       "    <tr>\n",
       "      <th>4</th>\n",
       "      <td>5</td>\n",
       "    </tr>\n",
       "  </tbody>\n",
       "</table>\n",
       "</div>"
      ],
      "text/plain": [
       "   cluster\n",
       "0        1\n",
       "1        1\n",
       "2        5\n",
       "3        0\n",
       "4        5"
      ]
     },
     "execution_count": 35,
     "metadata": {},
     "output_type": "execute_result"
    }
   ],
   "source": [
    "azdias_clustered.head()"
   ]
  },
  {
   "cell_type": "markdown",
   "id": "29b49754",
   "metadata": {},
   "source": [
    "It's time to check how the general population differs from customers in terms of clusters. We know that any company's customers are already a specific sub-group of general population and there is selection bias so these two datasets should show significance difference."
   ]
  },
  {
   "cell_type": "code",
   "execution_count": 36,
   "id": "f403726d",
   "metadata": {},
   "outputs": [],
   "source": [
    "# compare segments between the general population and customer base \n",
    "azdias_agg = azdias_clustered['cluster'].value_counts().sort_values(ascending=False)\n",
    "customer_agg = customers_clustered['cluster'].value_counts().sort_values(ascending=False)"
   ]
  },
  {
   "cell_type": "code",
   "execution_count": 37,
   "id": "7fa6694c",
   "metadata": {},
   "outputs": [
    {
     "data": {
      "text/plain": [
       "array([106447,  99782,  89546,  79209,  77290,  71396,  58836,  53407,\n",
       "        49118,  44188,  13928], dtype=int64)"
      ]
     },
     "execution_count": 37,
     "metadata": {},
     "output_type": "execute_result"
    }
   ],
   "source": [
    "azdias_agg.values"
   ]
  },
  {
   "cell_type": "code",
   "execution_count": 38,
   "id": "4eb707ae",
   "metadata": {},
   "outputs": [
    {
     "data": {
      "text/html": [
       "<div>\n",
       "<style scoped>\n",
       "    .dataframe tbody tr th:only-of-type {\n",
       "        vertical-align: middle;\n",
       "    }\n",
       "\n",
       "    .dataframe tbody tr th {\n",
       "        vertical-align: top;\n",
       "    }\n",
       "\n",
       "    .dataframe thead th {\n",
       "        text-align: right;\n",
       "    }\n",
       "</style>\n",
       "<table border=\"1\" class=\"dataframe\">\n",
       "  <thead>\n",
       "    <tr style=\"text-align: right;\">\n",
       "      <th></th>\n",
       "      <th>customers</th>\n",
       "      <th>germany</th>\n",
       "    </tr>\n",
       "  </thead>\n",
       "  <tbody>\n",
       "    <tr>\n",
       "      <th>0</th>\n",
       "      <td>96680.0</td>\n",
       "      <td>58836</td>\n",
       "    </tr>\n",
       "    <tr>\n",
       "      <th>1</th>\n",
       "      <td>64067.0</td>\n",
       "      <td>106447</td>\n",
       "    </tr>\n",
       "    <tr>\n",
       "      <th>2</th>\n",
       "      <td>466.0</td>\n",
       "      <td>13928</td>\n",
       "    </tr>\n",
       "    <tr>\n",
       "      <th>3</th>\n",
       "      <td>28475.0</td>\n",
       "      <td>44188</td>\n",
       "    </tr>\n",
       "    <tr>\n",
       "      <th>4</th>\n",
       "      <td>0.0</td>\n",
       "      <td>71396</td>\n",
       "    </tr>\n",
       "    <tr>\n",
       "      <th>5</th>\n",
       "      <td>0.0</td>\n",
       "      <td>99782</td>\n",
       "    </tr>\n",
       "    <tr>\n",
       "      <th>6</th>\n",
       "      <td>1964.0</td>\n",
       "      <td>77290</td>\n",
       "    </tr>\n",
       "    <tr>\n",
       "      <th>7</th>\n",
       "      <td>0.0</td>\n",
       "      <td>79209</td>\n",
       "    </tr>\n",
       "    <tr>\n",
       "      <th>8</th>\n",
       "      <td>0.0</td>\n",
       "      <td>53407</td>\n",
       "    </tr>\n",
       "    <tr>\n",
       "      <th>9</th>\n",
       "      <td>0.0</td>\n",
       "      <td>89546</td>\n",
       "    </tr>\n",
       "    <tr>\n",
       "      <th>10</th>\n",
       "      <td>0.0</td>\n",
       "      <td>49118</td>\n",
       "    </tr>\n",
       "  </tbody>\n",
       "</table>\n",
       "</div>"
      ],
      "text/plain": [
       "    customers  germany\n",
       "0     96680.0    58836\n",
       "1     64067.0   106447\n",
       "2       466.0    13928\n",
       "3     28475.0    44188\n",
       "4         0.0    71396\n",
       "5         0.0    99782\n",
       "6      1964.0    77290\n",
       "7         0.0    79209\n",
       "8         0.0    53407\n",
       "9         0.0    89546\n",
       "10        0.0    49118"
      ]
     },
     "execution_count": 38,
     "metadata": {},
     "output_type": "execute_result"
    }
   ],
   "source": [
    "populations = pd.DataFrame(azdias_agg).rename(columns={'cluster': 'Germany'})\n",
    "populations = pd.concat([customer_agg, azdias_agg], axis=1).fillna(0).sort_index()\n",
    "populations.columns = ['customers', 'germany']\n",
    "populations"
   ]
  },
  {
   "cell_type": "code",
   "execution_count": 39,
   "id": "7675f8a8",
   "metadata": {},
   "outputs": [
    {
     "data": {
      "image/png": "[encoded data removed]",
      "text/plain": [
       "<Figure size 1152x432 with 1 Axes>"
      ]
     },
     "metadata": {
      "needs_background": "light"
     },
     "output_type": "display_data"
    }
   ],
   "source": [
    "\n",
    "fig, ax = plt.subplots(figsize=(16,6))\n",
    "x = np.arange(n_clusters)\n",
    "\n",
    "ax1 = ax.bar(x - 0.2, populations['customers'], width=.4)\n",
    "ax2 = ax.bar(x + 0.2, populations['germany'], width=.4)\n",
    "\n",
    "plt.title('Size of clusters')\n",
    "plt.ylabel('Size')\n",
    "plt.xlabel('Cluster')\n",
    "plt.legend(['Customers', 'Germany'], loc='upper left')\n",
    "plt.xticks(x)\n",
    "plt.show()\n"
   ]
  },
  {
   "cell_type": "code",
   "execution_count": 40,
   "id": "534d6341",
   "metadata": {},
   "outputs": [
    {
     "name": "stdout",
     "output_type": "stream",
     "text": [
      "The cluster #0 is mostly influenced by components: [2, 9, 4]\n"
     ]
    }
   ],
   "source": [
    "# get ids of most important centers in the given cluster\n",
    "centers = pipeline['cluster'].cluster_centers_[0]    # get all the centers for the most important cluster\n",
    "ids = np.argsort(centers)[::-1]             # get ids of centers sorted (no ascending argument in argsort, hence slicing)\n",
    "top_ids = ids[:3]                           # select top 3 components\n",
    "print(f'The cluster #0 is mostly influenced by components: {list(top_ids)}')"
   ]
  },
  {
   "cell_type": "markdown",
   "id": "b8616305",
   "metadata": {},
   "source": [
    "Looking at the most overrepresented cluster (the most prevalent customer group), we see a positive impact of customer journey types 1 and 2 - traditionalists and minimalists. This is in line with the order-mail company being somewhat of a traditional business model. These customers also tend to be less interested in saving money (indicated by the FRANZ_SPARER feature)."
   ]
  },
  {
   "cell_type": "code",
   "execution_count": 41,
   "id": "49f6b90e",
   "metadata": {},
   "outputs": [
    {
     "data": {
      "image/png": "[encoded data removed]",
      "text/plain": [
       "<Figure size 432x288 with 1 Axes>"
      ]
     },
     "metadata": {
      "needs_background": "light"
     },
     "output_type": "display_data"
    }
   ],
   "source": [
    "# get top and bottom features for the given component by weights\n",
    "plot_component_weights(pipeline['pca'], top_ids[0], azdias.columns, n=5)"
   ]
  },
  {
   "cell_type": "code",
   "execution_count": 42,
   "id": "de157bc8",
   "metadata": {},
   "outputs": [
    {
     "data": {
      "image/png": "[encoded data removed]",
      "text/plain": [
       "<Figure size 432x288 with 1 Axes>"
      ]
     },
     "metadata": {
      "needs_background": "light"
     },
     "output_type": "display_data"
    }
   ],
   "source": [
    "# get top and bottom features for the given component by weights\n",
    "plot_component_weights(pipeline['pca'], top_ids[1], azdias.columns, n=5)"
   ]
  },
  {
   "cell_type": "code",
   "execution_count": 43,
   "id": "d946ae39",
   "metadata": {},
   "outputs": [
    {
     "data": {
      "image/png": "[encoded data removed]",
      "text/plain": [
       "<Figure size 432x288 with 1 Axes>"
      ]
     },
     "metadata": {
      "needs_background": "light"
     },
     "output_type": "display_data"
    }
   ],
   "source": [
    "# get top and bottom features for the given component by weights\n",
    "plot_component_weights(pipeline['pca'], top_ids[2], azdias.columns, n=5)"
   ]
  }
 ],
 "metadata": {
  "kernelspec": {
   "display_name": "Python 3 (ipykernel)",
   "language": "python",
   "name": "python3"
  },
  "language_info": {
   "codemirror_mode": {
    "name": "ipython",
    "version": 3
   },
   "file_extension": ".py",
   "mimetype": "text/x-python",
   "name": "python",
   "nbconvert_exporter": "python",
   "pygments_lexer": "ipython3",
   "version": "3.10.2"
  }
 },
 "nbformat": 4,
 "nbformat_minor": 5
}
