{
 "cells": [
  {
   "cell_type": "markdown",
   "id": "63e77f79",
   "metadata": {},
   "source": [
    "# Introduction"
   ]
  },
  {
   "cell_type": "markdown",
   "id": "cbb4ef30",
   "metadata": {},
   "source": [
    "### Problem statement\n",
    "\n",
    "This is a capstone project created as a part of a Nanodegree Data Scientist program. Its goal is to analyze the data for customers of a German mail-order sales company, comparing it with general population of Germanhy, and use the findings to recommend target group for a new marketing campaign and using a dataset with said campaign recipients - predict whether an individual is likely to convert.\n",
    "\n",
    "Firstly, we need to import libraries and source files. The files are not included with this repository as they take lots of space and the specific terms and conditions forbid further usage and reproduction. They can be currently obtained via kaggle on request, although it cannot be guaranteed in the future. "
   ]
  },
  {
   "cell_type": "code",
   "execution_count": 8,
   "id": "1d776cc8",
   "metadata": {},
   "outputs": [],
   "source": [
    "# import misc libraries\n",
    "import pandas as pd\n",
    "import numpy as np\n",
    "import matplotlib.pyplot as plt\n",
    "\n",
    "# import ML libraries\n",
    "from sklearn import preprocessing\n",
    "from sklearn.cluster import KMeans\n",
    "from sklearn.decomposition import PCA\n",
    "from sklearn.preprocessing import StandardScaler"
   ]
  },
  {
   "cell_type": "code",
   "execution_count": 9,
   "id": "63461512",
   "metadata": {},
   "outputs": [
    {
     "name": "stderr",
     "output_type": "stream",
     "text": [
      "C:\\Users\\JakubBelow\\AppData\\Local\\Temp\\ipykernel_24180\\3518727280.py:2: DtypeWarning: Columns (19,20) have mixed types. Specify dtype option on import or set low_memory=False.\n",
      "  azdias = pd.read_csv('dataset/azdias.csv')\n",
      "C:\\Users\\JakubBelow\\AppData\\Local\\Temp\\ipykernel_24180\\3518727280.py:3: DtypeWarning: Columns (19,20) have mixed types. Specify dtype option on import or set low_memory=False.\n",
      "  customers = pd.read_csv('dataset/customers.csv')\n",
      "C:\\Users\\JakubBelow\\AppData\\Local\\Temp\\ipykernel_24180\\3518727280.py:4: DtypeWarning: Columns (19,20) have mixed types. Specify dtype option on import or set low_memory=False.\n",
      "  mailout_train = pd.read_csv('dataset/mailout_train.csv')\n",
      "C:\\Users\\JakubBelow\\AppData\\Local\\Temp\\ipykernel_24180\\3518727280.py:5: DtypeWarning: Columns (19,20) have mixed types. Specify dtype option on import or set low_memory=False.\n",
      "  mailout_test = pd.read_csv('dataset/mailout_test.csv')\n"
     ]
    }
   ],
   "source": [
    "# load in the data\n",
    "azdias = pd.read_csv('dataset/azdias.csv')\n",
    "customers = pd.read_csv('dataset/customers.csv')\n",
    "mailout_train = pd.read_csv('dataset/mailout_train.csv')\n",
    "mailout_test = pd.read_csv('dataset/mailout_test.csv')"
   ]
  },
  {
   "cell_type": "markdown",
   "id": "acd46231",
   "metadata": {},
   "source": [
    "# Part 1. Data Exploration"
   ]
  },
  {
   "cell_type": "markdown",
   "id": "d277ae90",
   "metadata": {},
   "source": [
    "There are four files to consider:\n",
    "\n",
    "1. **Azdias** file contains demographic data for the general population of Germany with almost 400 features and 900 K entries\n",
    "\n",
    "\n",
    "2. **Customers** file contains data for existing customers and as such includes additional 3 columns describing the customer:\n",
    "    - customer group\n",
    "    - online purchase flag\n",
    "    - product group\n",
    "\n",
    "\n",
    "3. **Mailout train** file contains largely the same information but for targets of a marketing campaign\n",
    "\n",
    "\n",
    "4. **Mailout test** is virtually same as above but for testing purposes only"
   ]
  },
  {
   "cell_type": "markdown",
   "id": "28bb95d0",
   "metadata": {},
   "source": [
    "### Data cleaning\n",
    "\n",
    "Before clustering customers into segments, we need to investigate several topics and make decisions on how to tackle potential issues:\n",
    "\n",
    "- datasets shapes and matching columns\n",
    "- data types\n",
    "- missing vales in rows and columns\n",
    "- duplicates\n",
    "\n",
    "All of the cleaning steps will be performed on the azdias file and once the process is established, repetead on the remaining files."
   ]
  },
  {
   "cell_type": "code",
   "execution_count": 10,
   "id": "96269f86",
   "metadata": {},
   "outputs": [
    {
     "name": "stdout",
     "output_type": "stream",
     "text": [
      "Azdias dataset shape: (891221, 367)\n",
      "Customers dataset shape: (191652, 370)\n",
      "Mailout train dataset shape: (42962, 368)\n"
     ]
    }
   ],
   "source": [
    "print(f'Azdias dataset shape: {azdias.shape}\\nCustomers dataset shape: {customers.shape}\\nMailout train dataset shape: {mailout_train.shape}')"
   ]
  },
  {
   "cell_type": "code",
   "execution_count": 11,
   "id": "eeb14a19",
   "metadata": {},
   "outputs": [
    {
     "data": {
      "text/plain": [
       "{'CUSTOMER_GROUP', 'ONLINE_PURCHASE', 'PRODUCT_GROUP'}"
      ]
     },
     "execution_count": 11,
     "metadata": {},
     "output_type": "execute_result"
    }
   ],
   "source": [
    "set(customers.columns) - set(azdias.columns)"
   ]
  },
  {
   "cell_type": "code",
   "execution_count": 12,
   "id": "204e000d",
   "metadata": {},
   "outputs": [
    {
     "data": {
      "text/plain": [
       "{'RESPONSE'}"
      ]
     },
     "execution_count": 12,
     "metadata": {},
     "output_type": "execute_result"
    }
   ],
   "source": [
    "set(mailout_train.columns) - set(azdias.columns)"
   ]
  },
  {
   "cell_type": "markdown",
   "id": "2dc47ceb",
   "metadata": {},
   "source": [
    "Datasets are consistent, with differences in features discussed before.\n",
    "\n",
    "The vast majority of features are numerical with several being incorrectly casted (string instead of float or date)."
   ]
  },
  {
   "cell_type": "code",
   "execution_count": 13,
   "id": "a28673ba",
   "metadata": {},
   "outputs": [
    {
     "data": {
      "text/plain": [
       "float64    267\n",
       "int64       94\n",
       "object       6\n",
       "dtype: int64"
      ]
     },
     "execution_count": 13,
     "metadata": {},
     "output_type": "execute_result"
    }
   ],
   "source": [
    "azdias.dtypes.value_counts()"
   ]
  },
  {
   "cell_type": "code",
   "execution_count": 14,
   "id": "e2cec4f4",
   "metadata": {
    "scrolled": true
   },
   "outputs": [
    {
     "data": {
      "text/html": [
       "<div>\n",
       "<style scoped>\n",
       "    .dataframe tbody tr th:only-of-type {\n",
       "        vertical-align: middle;\n",
       "    }\n",
       "\n",
       "    .dataframe tbody tr th {\n",
       "        vertical-align: top;\n",
       "    }\n",
       "\n",
       "    .dataframe thead th {\n",
       "        text-align: right;\n",
       "    }\n",
       "</style>\n",
       "<table border=\"1\" class=\"dataframe\">\n",
       "  <thead>\n",
       "    <tr style=\"text-align: right;\">\n",
       "      <th></th>\n",
       "      <th>CAMEO_DEU_2015</th>\n",
       "      <th>CAMEO_DEUG_2015</th>\n",
       "      <th>CAMEO_INTL_2015</th>\n",
       "      <th>D19_LETZTER_KAUF_BRANCHE</th>\n",
       "      <th>EINGEFUEGT_AM</th>\n",
       "      <th>OST_WEST_KZ</th>\n",
       "    </tr>\n",
       "  </thead>\n",
       "  <tbody>\n",
       "    <tr>\n",
       "      <th>0</th>\n",
       "      <td>NaN</td>\n",
       "      <td>NaN</td>\n",
       "      <td>NaN</td>\n",
       "      <td>NaN</td>\n",
       "      <td>NaN</td>\n",
       "      <td>NaN</td>\n",
       "    </tr>\n",
       "    <tr>\n",
       "      <th>1</th>\n",
       "      <td>8A</td>\n",
       "      <td>8.0</td>\n",
       "      <td>51.0</td>\n",
       "      <td>NaN</td>\n",
       "      <td>1992-02-10 00:00:00</td>\n",
       "      <td>W</td>\n",
       "    </tr>\n",
       "    <tr>\n",
       "      <th>2</th>\n",
       "      <td>4C</td>\n",
       "      <td>4.0</td>\n",
       "      <td>24.0</td>\n",
       "      <td>D19_UNBEKANNT</td>\n",
       "      <td>1992-02-12 00:00:00</td>\n",
       "      <td>W</td>\n",
       "    </tr>\n",
       "    <tr>\n",
       "      <th>3</th>\n",
       "      <td>2A</td>\n",
       "      <td>2.0</td>\n",
       "      <td>12.0</td>\n",
       "      <td>D19_UNBEKANNT</td>\n",
       "      <td>1997-04-21 00:00:00</td>\n",
       "      <td>W</td>\n",
       "    </tr>\n",
       "    <tr>\n",
       "      <th>4</th>\n",
       "      <td>6B</td>\n",
       "      <td>6.0</td>\n",
       "      <td>43.0</td>\n",
       "      <td>D19_SCHUHE</td>\n",
       "      <td>1992-02-12 00:00:00</td>\n",
       "      <td>W</td>\n",
       "    </tr>\n",
       "  </tbody>\n",
       "</table>\n",
       "</div>"
      ],
      "text/plain": [
       "  CAMEO_DEU_2015 CAMEO_DEUG_2015 CAMEO_INTL_2015 D19_LETZTER_KAUF_BRANCHE  \\\n",
       "0            NaN             NaN             NaN                      NaN   \n",
       "1             8A             8.0            51.0                      NaN   \n",
       "2             4C             4.0            24.0            D19_UNBEKANNT   \n",
       "3             2A             2.0            12.0            D19_UNBEKANNT   \n",
       "4             6B             6.0            43.0               D19_SCHUHE   \n",
       "\n",
       "         EINGEFUEGT_AM OST_WEST_KZ  \n",
       "0                  NaN         NaN  \n",
       "1  1992-02-10 00:00:00           W  \n",
       "2  1992-02-12 00:00:00           W  \n",
       "3  1997-04-21 00:00:00           W  \n",
       "4  1992-02-12 00:00:00           W  "
      ]
     },
     "execution_count": 14,
     "metadata": {},
     "output_type": "execute_result"
    }
   ],
   "source": [
    "azdias.select_dtypes(['object']).head()"
   ]
  },
  {
   "cell_type": "markdown",
   "id": "c0b7d285",
   "metadata": {},
   "source": [
    "The three **CAMEO** columns represent an already established stratification of the population by social and economic standing. Since they are partially overlapping, I chose to keep **CAMEO_INTL_2015** as it combines family status with economic class which seems to impact purchasing decisions the most. Don’t get fooled, this is not a numerical feature and we will have to create dummy variables for each unique value. \n",
    "\n",
    "**D19_LETZTER_KAUF_BRANCHE** is not explained but \"letzter kauf branche\" means \"last purchase industry\" in German and holds 35 unique categories. We will create dummy binary variables for this feature as well.\n",
    "\n",
    "**PRAEGENDE_JUGENDJAHRE** despite appearing to be ordinal in nature is actually categorical. At first glance we see corresponding values to represent younger generations but after further investigation it turns out they also mix different political orientations.\n",
    "\n",
    "**EINGEFUEGT_AM** seems to be metadata info on when the record has been inserted and thus is redundant.\n",
    "\n",
    "Finally, **OST_WEST_KZ** denotes the republic of origin, ost being short for osten (east), so either DDR or FDR. It has to be mapped into binary values."
   ]
  },
  {
   "cell_type": "code",
   "execution_count": 15,
   "id": "cbede3e7",
   "metadata": {},
   "outputs": [
    {
     "data": {
      "text/plain": [
       "['CAMEO_DEU_2015', 'CAMEO_DEUG_2015', 'CAMEO_INTL_2015']"
      ]
     },
     "execution_count": 15,
     "metadata": {},
     "output_type": "execute_result"
    }
   ],
   "source": [
    "[col for col in azdias.columns if 'CAMEO' in col]"
   ]
  },
  {
   "cell_type": "markdown",
   "id": "61587982",
   "metadata": {},
   "source": [
    "We will also drop the LNR column as it's a unique identifier field and ANREDE_KZ denoting gender."
   ]
  },
  {
   "cell_type": "code",
   "execution_count": 16,
   "id": "94f24d13",
   "metadata": {},
   "outputs": [
    {
     "data": {
      "text/plain": [
       "0"
      ]
     },
     "execution_count": 16,
     "metadata": {},
     "output_type": "execute_result"
    }
   ],
   "source": [
    "# check for dups and drop if necessary\n",
    "azdias['LNR'].duplicated().sum()"
   ]
  },
  {
   "cell_type": "code",
   "execution_count": 17,
   "id": "97858b70",
   "metadata": {},
   "outputs": [],
   "source": [
    "# drop aforementioned columns alonmg w/ an index column imported from CSV \n",
    "cols_to_drop = ['CAMEO_DEU_2015', 'CAMEO_DEUG_2015', 'EINGEFUEGT_AM', 'LNR', 'Unnamed: 0']\n",
    "azdias_clean = azdias.drop(columns=cols_to_drop)\n",
    "num_cols = azdias_clean.select_dtypes(['float', 'int']).columns\n",
    "dummy_cols = ['CAMEO_INTL_2015', 'D19_LETZTER_KAUF_BRANCHE', 'PRAEGENDE_JUGENDJAHRE']"
   ]
  },
  {
   "cell_type": "code",
   "execution_count": 18,
   "id": "d8b563c7",
   "metadata": {},
   "outputs": [
    {
     "data": {
      "text/plain": [
       "float64    267\n",
       "int64       92\n",
       "object       3\n",
       "dtype: int64"
      ]
     },
     "execution_count": 18,
     "metadata": {},
     "output_type": "execute_result"
    }
   ],
   "source": [
    "azdias_clean.dtypes.value_counts()"
   ]
  },
  {
   "cell_type": "code",
   "execution_count": 19,
   "id": "f8efd395",
   "metadata": {},
   "outputs": [],
   "source": [
    "def clean_features(df):\n",
    "    '''\n",
    "    Returns given dataframe with transformed features (D19_LETZTER_KAUF_BRANCHE to dummies; OST_WEST_KZ to binary)\n",
    "    \n",
    "    INPUT:\n",
    "     - df (DataFrame): a dataframe with OST_WEST_KZ and D19_LETZTER_KAUF_BRANCHE features to transform\n",
    "    \n",
    "    OUTPUT:\n",
    "     - df (DataFrame): a dataframe with features transformed\n",
    "    '''\n",
    "    osten_dict = {'W': 1,\n",
    "                  'O': 0}\n",
    "    \n",
    "    # map OST_WEST_KZ to binary values\n",
    "    try:\n",
    "        df['OST_WEST_KZ'] = df['OST_WEST_KZ'].map(osten_dict)\n",
    "        df.rename(columns = {'OST_WEST_KZ': 'is_osten'}, inplace=True)\n",
    "        print('Mapped OST_WEST_KZ to binary')\n",
    "    except:\n",
    "        print('Error while transforming OST_WEST_KZ')\n",
    "    \n",
    "    # create dummy representations of catogorical features and drop the original columnsco\n",
    "    for col in dummy_cols:\n",
    "        try:\n",
    "            new_cols = pd.get_dummies(df[col], prefix=f'{col}_dummy')\n",
    "            df = pd.concat([df.drop(columns=[col]), new_cols], axis=1)\n",
    "            print(f'Dummified {col}.')\n",
    "        except:\n",
    "            print(f'Error while transforming  {col}')\n",
    "\n",
    "    return df"
   ]
  },
  {
   "cell_type": "code",
   "execution_count": 20,
   "id": "039fa5bf",
   "metadata": {},
   "outputs": [
    {
     "name": "stdout",
     "output_type": "stream",
     "text": [
      "Mapped OST_WEST_KZ to binary\n",
      "Dummified CAMEO_INTL_2015.\n",
      "Dummified D19_LETZTER_KAUF_BRANCHE.\n",
      "Dummified PRAEGENDE_JUGENDJAHRE.\n"
     ]
    }
   ],
   "source": [
    "azdias_clean = clean_features(azdias_clean)"
   ]
  },
  {
   "cell_type": "code",
   "execution_count": 21,
   "id": "fd6686d6",
   "metadata": {},
   "outputs": [
    {
     "data": {
      "text/plain": [
       "float64    268\n",
       "uint8       94\n",
       "int64       91\n",
       "dtype: int64"
      ]
     },
     "execution_count": 21,
     "metadata": {},
     "output_type": "execute_result"
    }
   ],
   "source": [
    "# make sure we've dealt with dtypes\n",
    "azdias_clean.dtypes.value_counts()"
   ]
  },
  {
   "cell_type": "markdown",
   "id": "aa003427",
   "metadata": {},
   "source": [
    "Another important decision to make is which features are carrying enough information, i.e. what is the percentage of missing values. Considering the large number of features and relatively low amount of nulls, we will drop any feature that has less than 85% of values."
   ]
  },
  {
   "cell_type": "code",
   "execution_count": 22,
   "id": "34adfb91",
   "metadata": {},
   "outputs": [
    {
     "data": {
      "text/plain": [
       "ALTER_KIND4          1.00\n",
       "ALTER_KIND3          0.99\n",
       "ALTER_KIND2          0.97\n",
       "ALTER_KIND1          0.91\n",
       "EXTSEL992            0.73\n",
       "                     ... \n",
       "RT_KEIN_ANREIZ       0.01\n",
       "RETOURTYP_BK_S       0.01\n",
       "CJT_KATALOGNUTZER    0.01\n",
       "CJT_TYP_1            0.01\n",
       "CJT_TYP_2            0.01\n",
       "Length: 268, dtype: float64"
      ]
     },
     "execution_count": 22,
     "metadata": {},
     "output_type": "execute_result"
    }
   ],
   "source": [
    "nan_pct = round(azdias_clean.isnull().sum() / azdias_clean.shape[0], 2)\n",
    "nan_pct[nan_pct > 0].sort_values(ascending=False)"
   ]
  },
  {
   "cell_type": "code",
   "execution_count": 23,
   "id": "01011ca0",
   "metadata": {},
   "outputs": [
    {
     "data": {
      "image/png": "[encoded data removed]",
      "text/plain": [
       "<Figure size 720x576 with 1 Axes>"
      ]
     },
     "metadata": {
      "needs_background": "light"
     },
     "output_type": "display_data"
    }
   ],
   "source": [
    "missing_df = pd.DataFrame(nan_pct[nan_pct > 0].sort_values(ascending=False), columns=['missing pct']).sort_values(by='missing pct', ascending=False)[:20]\n",
    "\n",
    "colors = ['green' if f > .15 else 'blue' for f in missing_df.sort_values(by='missing pct')['missing pct']]\n",
    "\n",
    "plt.figure(figsize=(10, 8))\n",
    "plt.title('Features by percentage of missing values')\n",
    "plt.ylabel('Feature name')\n",
    "plt.xlabel('Missing percentage')\n",
    "\n",
    "plt.barh(missing_df.sort_values(by='missing pct').index, missing_df.sort_values(by='missing pct')['missing pct'], color=colors)\n",
    "plt.show()"
   ]
  },
  {
   "cell_type": "code",
   "execution_count": 24,
   "id": "fdd61c89",
   "metadata": {},
   "outputs": [
    {
     "data": {
      "text/plain": [
       "15"
      ]
     },
     "execution_count": 24,
     "metadata": {},
     "output_type": "execute_result"
    }
   ],
   "source": [
    "missing_cols = list(nan_pct[nan_pct > .15].index)\n",
    "len(missing_cols)"
   ]
  },
  {
   "cell_type": "code",
   "execution_count": 25,
   "id": "ed7de3c1",
   "metadata": {},
   "outputs": [
    {
     "data": {
      "text/plain": [
       "ALTER_KIND4                    1.00\n",
       "ALTER_KIND3                    0.99\n",
       "ALTER_KIND2                    0.97\n",
       "ALTER_KIND1                    0.91\n",
       "EXTSEL992                      0.73\n",
       "KK_KUNDENTYP                   0.66\n",
       "ALTERSKATEGORIE_FEIN           0.30\n",
       "D19_GESAMT_ONLINE_QUOTE_12     0.29\n",
       "D19_VERSAND_ONLINE_QUOTE_12    0.29\n",
       "D19_BANKEN_ONLINE_QUOTE_12     0.29\n",
       "dtype: float64"
      ]
     },
     "execution_count": 25,
     "metadata": {},
     "output_type": "execute_result"
    }
   ],
   "source": [
    "nan_pct.sort_values(ascending=False)[:10]"
   ]
  },
  {
   "cell_type": "code",
   "execution_count": 26,
   "id": "77a10c36",
   "metadata": {},
   "outputs": [],
   "source": [
    "def drop_low_information_cols(df, threshold=.15):\n",
    "    '''\n",
    "    Returns given dataframe without columns exceeding set percentage of missing values.\n",
    "    \n",
    "    INPUT:\n",
    "     - df (DataFrame): a dataframe to be transformed\n",
    "     - threshold (float): a percentage of missing values that's acceptable \n",
    "    \n",
    "    OUTPUT:\n",
    "     - df (DataFrame): a dataframe with columns exceeding threshold dropped\n",
    "    '''\n",
    "    nan_pct = round(df.isnull().sum() / df.shape[0], 2)\n",
    "    drop_cols = nan_pct <= threshold\n",
    "    print(f'There are {sum(nan_pct > .15)} columns to be removed')\n",
    "    print(drop_cols[drop_cols==False])\n",
    "    df = df.loc[:, drop_cols]\n",
    "    \n",
    "    return df"
   ]
  },
  {
   "cell_type": "code",
   "execution_count": 27,
   "id": "7f8ff108",
   "metadata": {},
   "outputs": [
    {
     "name": "stdout",
     "output_type": "stream",
     "text": [
      "There are 15 columns to be removed\n",
      "ALTER_KIND1                    False\n",
      "ALTER_KIND2                    False\n",
      "ALTER_KIND3                    False\n",
      "ALTER_KIND4                    False\n",
      "ALTERSKATEGORIE_FEIN           False\n",
      "D19_BANKEN_ONLINE_QUOTE_12     False\n",
      "D19_GESAMT_ONLINE_QUOTE_12     False\n",
      "D19_KONSUMTYP                  False\n",
      "D19_LOTTO                      False\n",
      "D19_SOZIALES                   False\n",
      "D19_TELKO_ONLINE_QUOTE_12      False\n",
      "D19_VERSAND_ONLINE_QUOTE_12    False\n",
      "D19_VERSI_ONLINE_QUOTE_12      False\n",
      "EXTSEL992                      False\n",
      "KK_KUNDENTYP                   False\n",
      "dtype: bool\n"
     ]
    },
    {
     "data": {
      "text/plain": [
       "(891221, 438)"
      ]
     },
     "execution_count": 27,
     "metadata": {},
     "output_type": "execute_result"
    }
   ],
   "source": [
    "# drop cols with less then 85% values\n",
    "azdias_clean = drop_low_information_cols(azdias_clean, .15)\n",
    "cols_to_drop = cols_to_drop + missing_cols\n",
    "azdias_clean.shape"
   ]
  },
  {
   "cell_type": "markdown",
   "id": "5f41eca8",
   "metadata": {},
   "source": [
    "Now, we can look at the information value of rows and select rows that have enough features for successful prediciton."
   ]
  },
  {
   "cell_type": "code",
   "execution_count": 28,
   "id": "ceca94c1",
   "metadata": {},
   "outputs": [
    {
     "data": {
      "text/plain": [
       "[<matplotlib.lines.Line2D at 0x29adeaf1a80>]"
      ]
     },
     "execution_count": 28,
     "metadata": {},
     "output_type": "execute_result"
    },
    {
     "data": {
      "image/png": "[encoded data removed]",
      "text/plain": [
       "<Figure size 432x288 with 1 Axes>"
      ]
     },
     "metadata": {
      "needs_background": "light"
     },
     "output_type": "display_data"
    }
   ],
   "source": [
    "# get the cumulative percentage of rows with increasing count of missing features and plot it for decisionmaking\n",
    "x = azdias_clean.isnull().sum(axis=1).value_counts().sort_index().cumsum() / azdias_clean.shape[0]\n",
    "plt.plot(x)"
   ]
  },
  {
   "cell_type": "markdown",
   "id": "734bc397",
   "metadata": {},
   "source": [
    "Around 83% of instances have 6 or less missing values. The remaining 17% have between 7 and 240 missing values. The cutoff of 6 missing features seems to be reasonable considering the large quantity of features and records."
   ]
  },
  {
   "cell_type": "code",
   "execution_count": 29,
   "id": "bfd82cb5",
   "metadata": {},
   "outputs": [
    {
     "data": {
      "text/plain": [
       "0    0.782954\n",
       "1    0.783197\n",
       "2    0.816694\n",
       "3    0.828881\n",
       "4    0.829042\n",
       "5    0.829623\n",
       "6    0.833853\n",
       "7    0.837516\n",
       "8    0.837663\n",
       "9    0.837956\n",
       "dtype: float64"
      ]
     },
     "execution_count": 29,
     "metadata": {},
     "output_type": "execute_result"
    }
   ],
   "source": [
    "x[:10]"
   ]
  },
  {
   "cell_type": "code",
   "execution_count": 30,
   "id": "fc0cda02",
   "metadata": {},
   "outputs": [],
   "source": [
    "# drop rows exceeding 3 missing values\n",
    "azdias_clean = azdias_clean[azdias_clean.isnull().sum(axis=1) <= 6]"
   ]
  },
  {
   "cell_type": "markdown",
   "id": "11bc4589",
   "metadata": {},
   "source": [
    "Before dealing with the rest of missing values, we want to check how many of the features are binary in nature. These features should exactly two unique values (and we've already dealt with object dtypes)."
   ]
  },
  {
   "cell_type": "code",
   "execution_count": 31,
   "id": "3b5d585e",
   "metadata": {},
   "outputs": [
    {
     "data": {
      "text/plain": [
       "(743147, 438)"
      ]
     },
     "execution_count": 31,
     "metadata": {},
     "output_type": "execute_result"
    }
   ],
   "source": [
    "azdias_clean.shape"
   ]
  },
  {
   "cell_type": "code",
   "execution_count": 32,
   "id": "f347950f",
   "metadata": {},
   "outputs": [
    {
     "name": "stdout",
     "output_type": "stream",
     "text": [
      "There are 102 binary features\n"
     ]
    }
   ],
   "source": [
    "bin_cols = []\n",
    "\n",
    "for col in azdias_clean.columns:\n",
    "    nunique = azdias_clean[col].nunique()\n",
    "    bin_cols.append(col) if (nunique == 2) else None\n",
    "    \n",
    "print(f'There are {len(bin_cols)} binary features')"
   ]
  },
  {
   "cell_type": "code",
   "execution_count": 33,
   "id": "fdbc2e57",
   "metadata": {},
   "outputs": [
    {
     "data": {
      "text/html": [
       "<div>\n",
       "<style scoped>\n",
       "    .dataframe tbody tr th:only-of-type {\n",
       "        vertical-align: middle;\n",
       "    }\n",
       "\n",
       "    .dataframe tbody tr th {\n",
       "        vertical-align: top;\n",
       "    }\n",
       "\n",
       "    .dataframe thead th {\n",
       "        text-align: right;\n",
       "    }\n",
       "</style>\n",
       "<table border=\"1\" class=\"dataframe\">\n",
       "  <thead>\n",
       "    <tr style=\"text-align: right;\">\n",
       "      <th></th>\n",
       "      <th>DSL_FLAG</th>\n",
       "      <th>GREEN_AVANTGARDE</th>\n",
       "      <th>HH_DELTA_FLAG</th>\n",
       "      <th>KONSUMZELLE</th>\n",
       "      <th>is_osten</th>\n",
       "      <th>SOHO_KZ</th>\n",
       "      <th>UNGLEICHENN_FLAG</th>\n",
       "      <th>ANREDE_KZ</th>\n",
       "      <th>CAMEO_INTL_2015_dummy_12.0</th>\n",
       "      <th>CAMEO_INTL_2015_dummy_13.0</th>\n",
       "      <th>...</th>\n",
       "      <th>PRAEGENDE_JUGENDJAHRE_dummy_6</th>\n",
       "      <th>PRAEGENDE_JUGENDJAHRE_dummy_7</th>\n",
       "      <th>PRAEGENDE_JUGENDJAHRE_dummy_8</th>\n",
       "      <th>PRAEGENDE_JUGENDJAHRE_dummy_9</th>\n",
       "      <th>PRAEGENDE_JUGENDJAHRE_dummy_10</th>\n",
       "      <th>PRAEGENDE_JUGENDJAHRE_dummy_11</th>\n",
       "      <th>PRAEGENDE_JUGENDJAHRE_dummy_12</th>\n",
       "      <th>PRAEGENDE_JUGENDJAHRE_dummy_13</th>\n",
       "      <th>PRAEGENDE_JUGENDJAHRE_dummy_14</th>\n",
       "      <th>PRAEGENDE_JUGENDJAHRE_dummy_15</th>\n",
       "    </tr>\n",
       "  </thead>\n",
       "  <tbody>\n",
       "    <tr>\n",
       "      <th>count</th>\n",
       "      <td>743147.000000</td>\n",
       "      <td>743147.000000</td>\n",
       "      <td>711961.000000</td>\n",
       "      <td>743143.000000</td>\n",
       "      <td>743147.000000</td>\n",
       "      <td>743147.000000</td>\n",
       "      <td>743147.000000</td>\n",
       "      <td>743147.000000</td>\n",
       "      <td>743147.000000</td>\n",
       "      <td>743147.000000</td>\n",
       "      <td>...</td>\n",
       "      <td>743147.000000</td>\n",
       "      <td>743147.000000</td>\n",
       "      <td>743147.000000</td>\n",
       "      <td>743147.000000</td>\n",
       "      <td>743147.000000</td>\n",
       "      <td>743147.000000</td>\n",
       "      <td>743147.000000</td>\n",
       "      <td>743147.000000</td>\n",
       "      <td>743147.000000</td>\n",
       "      <td>743147.000000</td>\n",
       "    </tr>\n",
       "    <tr>\n",
       "      <th>mean</th>\n",
       "      <td>0.988983</td>\n",
       "      <td>0.219808</td>\n",
       "      <td>0.089263</td>\n",
       "      <td>0.241044</td>\n",
       "      <td>0.787400</td>\n",
       "      <td>0.008378</td>\n",
       "      <td>0.088077</td>\n",
       "      <td>1.521938</td>\n",
       "      <td>0.006711</td>\n",
       "      <td>0.013682</td>\n",
       "      <td>...</td>\n",
       "      <td>0.033451</td>\n",
       "      <td>0.005146</td>\n",
       "      <td>0.177250</td>\n",
       "      <td>0.042817</td>\n",
       "      <td>0.106123</td>\n",
       "      <td>0.043195</td>\n",
       "      <td>0.030772</td>\n",
       "      <td>0.006808</td>\n",
       "      <td>0.228605</td>\n",
       "      <td>0.051758</td>\n",
       "    </tr>\n",
       "    <tr>\n",
       "      <th>std</th>\n",
       "      <td>0.104381</td>\n",
       "      <td>0.414117</td>\n",
       "      <td>0.285124</td>\n",
       "      <td>0.427717</td>\n",
       "      <td>0.409147</td>\n",
       "      <td>0.091147</td>\n",
       "      <td>0.283407</td>\n",
       "      <td>0.499519</td>\n",
       "      <td>0.081643</td>\n",
       "      <td>0.116169</td>\n",
       "      <td>...</td>\n",
       "      <td>0.179811</td>\n",
       "      <td>0.071549</td>\n",
       "      <td>0.381881</td>\n",
       "      <td>0.202443</td>\n",
       "      <td>0.307995</td>\n",
       "      <td>0.203295</td>\n",
       "      <td>0.172699</td>\n",
       "      <td>0.082227</td>\n",
       "      <td>0.419934</td>\n",
       "      <td>0.221539</td>\n",
       "    </tr>\n",
       "    <tr>\n",
       "      <th>min</th>\n",
       "      <td>0.000000</td>\n",
       "      <td>0.000000</td>\n",
       "      <td>0.000000</td>\n",
       "      <td>0.000000</td>\n",
       "      <td>0.000000</td>\n",
       "      <td>0.000000</td>\n",
       "      <td>0.000000</td>\n",
       "      <td>1.000000</td>\n",
       "      <td>0.000000</td>\n",
       "      <td>0.000000</td>\n",
       "      <td>...</td>\n",
       "      <td>0.000000</td>\n",
       "      <td>0.000000</td>\n",
       "      <td>0.000000</td>\n",
       "      <td>0.000000</td>\n",
       "      <td>0.000000</td>\n",
       "      <td>0.000000</td>\n",
       "      <td>0.000000</td>\n",
       "      <td>0.000000</td>\n",
       "      <td>0.000000</td>\n",
       "      <td>0.000000</td>\n",
       "    </tr>\n",
       "    <tr>\n",
       "      <th>25%</th>\n",
       "      <td>1.000000</td>\n",
       "      <td>0.000000</td>\n",
       "      <td>0.000000</td>\n",
       "      <td>0.000000</td>\n",
       "      <td>1.000000</td>\n",
       "      <td>0.000000</td>\n",
       "      <td>0.000000</td>\n",
       "      <td>1.000000</td>\n",
       "      <td>0.000000</td>\n",
       "      <td>0.000000</td>\n",
       "      <td>...</td>\n",
       "      <td>0.000000</td>\n",
       "      <td>0.000000</td>\n",
       "      <td>0.000000</td>\n",
       "      <td>0.000000</td>\n",
       "      <td>0.000000</td>\n",
       "      <td>0.000000</td>\n",
       "      <td>0.000000</td>\n",
       "      <td>0.000000</td>\n",
       "      <td>0.000000</td>\n",
       "      <td>0.000000</td>\n",
       "    </tr>\n",
       "    <tr>\n",
       "      <th>50%</th>\n",
       "      <td>1.000000</td>\n",
       "      <td>0.000000</td>\n",
       "      <td>0.000000</td>\n",
       "      <td>0.000000</td>\n",
       "      <td>1.000000</td>\n",
       "      <td>0.000000</td>\n",
       "      <td>0.000000</td>\n",
       "      <td>2.000000</td>\n",
       "      <td>0.000000</td>\n",
       "      <td>0.000000</td>\n",
       "      <td>...</td>\n",
       "      <td>0.000000</td>\n",
       "      <td>0.000000</td>\n",
       "      <td>0.000000</td>\n",
       "      <td>0.000000</td>\n",
       "      <td>0.000000</td>\n",
       "      <td>0.000000</td>\n",
       "      <td>0.000000</td>\n",
       "      <td>0.000000</td>\n",
       "      <td>0.000000</td>\n",
       "      <td>0.000000</td>\n",
       "    </tr>\n",
       "    <tr>\n",
       "      <th>75%</th>\n",
       "      <td>1.000000</td>\n",
       "      <td>0.000000</td>\n",
       "      <td>0.000000</td>\n",
       "      <td>0.000000</td>\n",
       "      <td>1.000000</td>\n",
       "      <td>0.000000</td>\n",
       "      <td>0.000000</td>\n",
       "      <td>2.000000</td>\n",
       "      <td>0.000000</td>\n",
       "      <td>0.000000</td>\n",
       "      <td>...</td>\n",
       "      <td>0.000000</td>\n",
       "      <td>0.000000</td>\n",
       "      <td>0.000000</td>\n",
       "      <td>0.000000</td>\n",
       "      <td>0.000000</td>\n",
       "      <td>0.000000</td>\n",
       "      <td>0.000000</td>\n",
       "      <td>0.000000</td>\n",
       "      <td>0.000000</td>\n",
       "      <td>0.000000</td>\n",
       "    </tr>\n",
       "    <tr>\n",
       "      <th>max</th>\n",
       "      <td>1.000000</td>\n",
       "      <td>1.000000</td>\n",
       "      <td>1.000000</td>\n",
       "      <td>1.000000</td>\n",
       "      <td>1.000000</td>\n",
       "      <td>1.000000</td>\n",
       "      <td>1.000000</td>\n",
       "      <td>2.000000</td>\n",
       "      <td>1.000000</td>\n",
       "      <td>1.000000</td>\n",
       "      <td>...</td>\n",
       "      <td>1.000000</td>\n",
       "      <td>1.000000</td>\n",
       "      <td>1.000000</td>\n",
       "      <td>1.000000</td>\n",
       "      <td>1.000000</td>\n",
       "      <td>1.000000</td>\n",
       "      <td>1.000000</td>\n",
       "      <td>1.000000</td>\n",
       "      <td>1.000000</td>\n",
       "      <td>1.000000</td>\n",
       "    </tr>\n",
       "  </tbody>\n",
       "</table>\n",
       "<p>8 rows × 102 columns</p>\n",
       "</div>"
      ],
      "text/plain": [
       "            DSL_FLAG  GREEN_AVANTGARDE  HH_DELTA_FLAG    KONSUMZELLE  \\\n",
       "count  743147.000000     743147.000000  711961.000000  743143.000000   \n",
       "mean        0.988983          0.219808       0.089263       0.241044   \n",
       "std         0.104381          0.414117       0.285124       0.427717   \n",
       "min         0.000000          0.000000       0.000000       0.000000   \n",
       "25%         1.000000          0.000000       0.000000       0.000000   \n",
       "50%         1.000000          0.000000       0.000000       0.000000   \n",
       "75%         1.000000          0.000000       0.000000       0.000000   \n",
       "max         1.000000          1.000000       1.000000       1.000000   \n",
       "\n",
       "            is_osten        SOHO_KZ  UNGLEICHENN_FLAG      ANREDE_KZ  \\\n",
       "count  743147.000000  743147.000000     743147.000000  743147.000000   \n",
       "mean        0.787400       0.008378          0.088077       1.521938   \n",
       "std         0.409147       0.091147          0.283407       0.499519   \n",
       "min         0.000000       0.000000          0.000000       1.000000   \n",
       "25%         1.000000       0.000000          0.000000       1.000000   \n",
       "50%         1.000000       0.000000          0.000000       2.000000   \n",
       "75%         1.000000       0.000000          0.000000       2.000000   \n",
       "max         1.000000       1.000000          1.000000       2.000000   \n",
       "\n",
       "       CAMEO_INTL_2015_dummy_12.0  CAMEO_INTL_2015_dummy_13.0  ...  \\\n",
       "count               743147.000000               743147.000000  ...   \n",
       "mean                     0.006711                    0.013682  ...   \n",
       "std                      0.081643                    0.116169  ...   \n",
       "min                      0.000000                    0.000000  ...   \n",
       "25%                      0.000000                    0.000000  ...   \n",
       "50%                      0.000000                    0.000000  ...   \n",
       "75%                      0.000000                    0.000000  ...   \n",
       "max                      1.000000                    1.000000  ...   \n",
       "\n",
       "       PRAEGENDE_JUGENDJAHRE_dummy_6  PRAEGENDE_JUGENDJAHRE_dummy_7  \\\n",
       "count                  743147.000000                  743147.000000   \n",
       "mean                        0.033451                       0.005146   \n",
       "std                         0.179811                       0.071549   \n",
       "min                         0.000000                       0.000000   \n",
       "25%                         0.000000                       0.000000   \n",
       "50%                         0.000000                       0.000000   \n",
       "75%                         0.000000                       0.000000   \n",
       "max                         1.000000                       1.000000   \n",
       "\n",
       "       PRAEGENDE_JUGENDJAHRE_dummy_8  PRAEGENDE_JUGENDJAHRE_dummy_9  \\\n",
       "count                  743147.000000                  743147.000000   \n",
       "mean                        0.177250                       0.042817   \n",
       "std                         0.381881                       0.202443   \n",
       "min                         0.000000                       0.000000   \n",
       "25%                         0.000000                       0.000000   \n",
       "50%                         0.000000                       0.000000   \n",
       "75%                         0.000000                       0.000000   \n",
       "max                         1.000000                       1.000000   \n",
       "\n",
       "       PRAEGENDE_JUGENDJAHRE_dummy_10  PRAEGENDE_JUGENDJAHRE_dummy_11  \\\n",
       "count                   743147.000000                   743147.000000   \n",
       "mean                         0.106123                        0.043195   \n",
       "std                          0.307995                        0.203295   \n",
       "min                          0.000000                        0.000000   \n",
       "25%                          0.000000                        0.000000   \n",
       "50%                          0.000000                        0.000000   \n",
       "75%                          0.000000                        0.000000   \n",
       "max                          1.000000                        1.000000   \n",
       "\n",
       "       PRAEGENDE_JUGENDJAHRE_dummy_12  PRAEGENDE_JUGENDJAHRE_dummy_13  \\\n",
       "count                   743147.000000                   743147.000000   \n",
       "mean                         0.030772                        0.006808   \n",
       "std                          0.172699                        0.082227   \n",
       "min                          0.000000                        0.000000   \n",
       "25%                          0.000000                        0.000000   \n",
       "50%                          0.000000                        0.000000   \n",
       "75%                          0.000000                        0.000000   \n",
       "max                          1.000000                        1.000000   \n",
       "\n",
       "       PRAEGENDE_JUGENDJAHRE_dummy_14  PRAEGENDE_JUGENDJAHRE_dummy_15  \n",
       "count                   743147.000000                   743147.000000  \n",
       "mean                         0.228605                        0.051758  \n",
       "std                          0.419934                        0.221539  \n",
       "min                          0.000000                        0.000000  \n",
       "25%                          0.000000                        0.000000  \n",
       "50%                          0.000000                        0.000000  \n",
       "75%                          0.000000                        0.000000  \n",
       "max                          1.000000                        1.000000  \n",
       "\n",
       "[8 rows x 102 columns]"
      ]
     },
     "execution_count": 33,
     "metadata": {},
     "output_type": "execute_result"
    }
   ],
   "source": [
    "azdias_clean[bin_cols].describe()"
   ]
  },
  {
   "cell_type": "markdown",
   "id": "b8cfce5c",
   "metadata": {},
   "source": [
    "Apart from dummy values we've just created there are some features with 'flag' in their names and a couple of other columns that appear to be binary. These cannot be treated like other numerical ones when it comes to scaling and filling in null values. Unfortunately, two of these columns contain some nulls."
   ]
  },
  {
   "cell_type": "code",
   "execution_count": 34,
   "id": "5f2c497a",
   "metadata": {},
   "outputs": [
    {
     "data": {
      "text/html": [
       "<div>\n",
       "<style scoped>\n",
       "    .dataframe tbody tr th:only-of-type {\n",
       "        vertical-align: middle;\n",
       "    }\n",
       "\n",
       "    .dataframe tbody tr th {\n",
       "        vertical-align: top;\n",
       "    }\n",
       "\n",
       "    .dataframe thead th {\n",
       "        text-align: right;\n",
       "    }\n",
       "</style>\n",
       "<table border=\"1\" class=\"dataframe\">\n",
       "  <thead>\n",
       "    <tr style=\"text-align: right;\">\n",
       "      <th></th>\n",
       "      <th>HH_DELTA_FLAG</th>\n",
       "      <th>KONSUMZELLE</th>\n",
       "    </tr>\n",
       "  </thead>\n",
       "  <tbody>\n",
       "    <tr>\n",
       "      <th>1</th>\n",
       "      <td>0.0</td>\n",
       "      <td>1.0</td>\n",
       "    </tr>\n",
       "    <tr>\n",
       "      <th>2</th>\n",
       "      <td>0.0</td>\n",
       "      <td>0.0</td>\n",
       "    </tr>\n",
       "    <tr>\n",
       "      <th>3</th>\n",
       "      <td>NaN</td>\n",
       "      <td>0.0</td>\n",
       "    </tr>\n",
       "    <tr>\n",
       "      <th>4</th>\n",
       "      <td>0.0</td>\n",
       "      <td>0.0</td>\n",
       "    </tr>\n",
       "    <tr>\n",
       "      <th>5</th>\n",
       "      <td>0.0</td>\n",
       "      <td>0.0</td>\n",
       "    </tr>\n",
       "    <tr>\n",
       "      <th>6</th>\n",
       "      <td>0.0</td>\n",
       "      <td>0.0</td>\n",
       "    </tr>\n",
       "    <tr>\n",
       "      <th>7</th>\n",
       "      <td>0.0</td>\n",
       "      <td>0.0</td>\n",
       "    </tr>\n",
       "    <tr>\n",
       "      <th>8</th>\n",
       "      <td>0.0</td>\n",
       "      <td>0.0</td>\n",
       "    </tr>\n",
       "    <tr>\n",
       "      <th>9</th>\n",
       "      <td>0.0</td>\n",
       "      <td>0.0</td>\n",
       "    </tr>\n",
       "    <tr>\n",
       "      <th>10</th>\n",
       "      <td>0.0</td>\n",
       "      <td>0.0</td>\n",
       "    </tr>\n",
       "  </tbody>\n",
       "</table>\n",
       "</div>"
      ],
      "text/plain": [
       "    HH_DELTA_FLAG  KONSUMZELLE\n",
       "1             0.0          1.0\n",
       "2             0.0          0.0\n",
       "3             NaN          0.0\n",
       "4             0.0          0.0\n",
       "5             0.0          0.0\n",
       "6             0.0          0.0\n",
       "7             0.0          0.0\n",
       "8             0.0          0.0\n",
       "9             0.0          0.0\n",
       "10            0.0          0.0"
      ]
     },
     "execution_count": 34,
     "metadata": {},
     "output_type": "execute_result"
    }
   ],
   "source": [
    "azdias_clean[bin_cols].loc[:, azdias_clean[bin_cols].isnull().sum() > 0].head(10)"
   ]
  },
  {
   "cell_type": "code",
   "execution_count": 35,
   "id": "912a9936",
   "metadata": {},
   "outputs": [
    {
     "data": {
      "text/plain": [
       "HH_DELTA_FLAG    31186\n",
       "KONSUMZELLE          4\n",
       "DSL_FLAG             0\n",
       "dtype: int64"
      ]
     },
     "execution_count": 35,
     "metadata": {},
     "output_type": "execute_result"
    }
   ],
   "source": [
    "azdias_clean[bin_cols].isnull().sum().sort_values(ascending=False)[:3]"
   ]
  },
  {
   "cell_type": "markdown",
   "id": "d21a83c6",
   "metadata": {},
   "source": [
    "In this instance, we will fill them with modes as the most prevalent outcome should be typical for demographic data."
   ]
  },
  {
   "cell_type": "code",
   "execution_count": 36,
   "id": "0b527859",
   "metadata": {},
   "outputs": [],
   "source": [
    "# fill the missing vals with mode\n",
    "azdias_clean[bin_cols] = azdias_clean[bin_cols].fillna(azdias_clean[bin_cols].mode().iloc[0])"
   ]
  },
  {
   "cell_type": "code",
   "execution_count": 37,
   "id": "696a6b84",
   "metadata": {},
   "outputs": [
    {
     "data": {
      "text/plain": [
       "DSL_FLAG                                            0\n",
       "D19_LETZTER_KAUF_BRANCHE_dummy_D19_GARTEN           0\n",
       "D19_LETZTER_KAUF_BRANCHE_dummy_D19_SAMMELARTIKEL    0\n",
       "dtype: int64"
      ]
     },
     "execution_count": 37,
     "metadata": {},
     "output_type": "execute_result"
    }
   ],
   "source": [
    "azdias_clean[bin_cols].isnull().sum().sort_values(ascending=False)[:3]"
   ]
  },
  {
   "cell_type": "markdown",
   "id": "7ffce3f9",
   "metadata": {},
   "source": [
    "The rest of missing values will be filled with means."
   ]
  },
  {
   "cell_type": "code",
   "execution_count": 38,
   "id": "28df1355",
   "metadata": {},
   "outputs": [
    {
     "name": "stdout",
     "output_type": "stream",
     "text": [
      "There are 0 missing values in the dataframe left and the shape is: (743147, 438)\n"
     ]
    }
   ],
   "source": [
    "# fill nans with means and check if any nans left\n",
    "azdias_clean = azdias_clean.fillna(azdias_clean.mean())\n",
    "print(f'There are {azdias_clean.isnull().sum().sum()} missing values in the dataframe left and the shape is: {azdias_clean.shape}')"
   ]
  },
  {
   "cell_type": "markdown",
   "id": "95010bc8",
   "metadata": {},
   "source": [
    "As the very last step, we will scale non-binary features."
   ]
  },
  {
   "cell_type": "code",
   "execution_count": 39,
   "id": "a97de684",
   "metadata": {},
   "outputs": [],
   "source": [
    "num_cols = azdias_clean.drop(columns=bin_cols).columns\n",
    "scaler = StandardScaler()\n",
    "\n",
    "scaled_cols = pd.DataFrame(scaler.fit_transform(azdias_clean[num_cols]), columns=num_cols)\n",
    "azdias_scaled = pd.concat([azdias_clean[bin_cols].reset_index(), scaled_cols.reset_index()], axis=1)\n",
    "azdias_scaled = azdias_scaled.drop(columns=['index'])"
   ]
  },
  {
   "cell_type": "markdown",
   "id": "4448f8f7",
   "metadata": {},
   "source": [
    "And finally, store the outcome for future use."
   ]
  },
  {
   "cell_type": "code",
   "execution_count": 40,
   "id": "a4723864",
   "metadata": {},
   "outputs": [],
   "source": [
    "azdias_scaled.to_csv('dataset/azdias_clean.csv', index=False)"
   ]
  },
  {
   "cell_type": "markdown",
   "id": "e1fef32a",
   "metadata": {},
   "source": [
    "**To sum up**, we performed the following steps:\n",
    "\n",
    "\n",
    "1. remove redundant categorical features\n",
    "2. create dummy variables for the remaining categorical feature\n",
    "3. map object feature to binary data\n",
    "4. remove features with more than 15% missing values\n",
    "5. remove all rows with more than 11 missing values [azdias file only]\n",
    "6. replace missing binary values with modes\n",
    "7. replace missing numerical features with means\n",
    "8. check for duplicates\n",
    "\n",
    "\n",
    "Based on the analysis, we will define a function to perform all the above steps and save the results for convenience."
   ]
  },
  {
   "cell_type": "code",
   "execution_count": 41,
   "id": "ec364238",
   "metadata": {},
   "outputs": [
    {
     "name": "stdout",
     "output_type": "stream",
     "text": [
      "Customers-specific columns have 0 missing values and mailout train has also 0\n"
     ]
    }
   ],
   "source": [
    "# customers and mailout train datasets specific columns don't contain any nulls as expected\n",
    "print(f\"Customers-specific columns have {customers[['CUSTOMER_GROUP', 'ONLINE_PURCHASE', 'PRODUCT_GROUP']].isnull().sum().sum()} missing values and mailout train has also {mailout_train[['RESPONSE']].isnull().sum().sum()}\")"
   ]
  },
  {
   "cell_type": "code",
   "execution_count": 44,
   "id": "341990af",
   "metadata": {},
   "outputs": [],
   "source": [
    "def prepare_dataset(df, cols_to_drop, bin_cols):\n",
    "    '''\n",
    "    Returns cleaned dataframe after performing all the cleaning steps outlined in the analysis.\n",
    "    \n",
    "    INPUT:\n",
    "     - df (DataFrame): a dataframe with OST_WEST_KZ and D19_LETZTER_KAUF_BRANCHE features to transform\n",
    "     - cols_to_drop (list): a list of columns to be dropped as per previous analysis\n",
    "     - bin_cols (list): a list of binary columns to be inputed with modes\n",
    "    \n",
    "    OUTPUT:\n",
    "     - df (DataFrame): a dataframe with features transformed\n",
    "    '''\n",
    "    \n",
    "    print('Cleaning the dataset')\n",
    "    \n",
    "    # drop redundant columns\n",
    "    cleaned_df = df.drop(columns=cols_to_drop)\n",
    "    \n",
    "    # clean binary and dummy features\n",
    "    cleaned_df = clean_features(cleaned_df)\n",
    "    \n",
    "    # fill binary nans with modes\n",
    "    print('Imputing binary Nans with modes...')\n",
    "    cleaned_df[bin_cols] = cleaned_df[bin_cols].fillna(cleaned_df[bin_cols].mode().iloc[0])\n",
    "    \n",
    "    # fill remaining nans with columns' means\n",
    "    print('Imputing numerical Nans with means...')\n",
    "    \n",
    "    num_cols = cleaned_df.drop(columns=bin_cols).columns\n",
    "    cleaned_df[num_cols] = cleaned_df[num_cols].fillna(cleaned_df[num_cols].mean())\n",
    "    \n",
    "    # scale numerical features\n",
    "    print('Scaling numerical features...')\n",
    "    scaler = StandardScaler()\n",
    "    scaled_cols = pd.DataFrame(scaler.fit_transform(cleaned_df[num_cols]), columns=num_cols)\n",
    "    scaled_df = pd.concat([cleaned_df[bin_cols].reset_index(), scaled_cols.reset_index()], axis=1)\n",
    "    \n",
    "    # drop redundant index\n",
    "    scaled_df = scaled_df.drop(columns=['index'])\n",
    "    \n",
    "    return cleaned_df\n"
   ]
  },
  {
   "cell_type": "code",
   "execution_count": 45,
   "id": "77e3993a",
   "metadata": {},
   "outputs": [
    {
     "name": "stdout",
     "output_type": "stream",
     "text": [
      "Cleaning the dataset\n",
      "Mapped OST_WEST_KZ to binary\n",
      "Dummified CAMEO_INTL_2015.\n",
      "Dummified D19_LETZTER_KAUF_BRANCHE.\n",
      "Dummified PRAEGENDE_JUGENDJAHRE.\n",
      "Imputing binary Nans with modes...\n",
      "Imputing numerical Nans with means...\n",
      "Scaling numerical features...\n"
     ]
    }
   ],
   "source": [
    "# pre-process customers dataset accordingly, remembering about the three additional columns that need to be omitted\n",
    "customers_scaled = prepare_dataset(customers, cols_to_drop=cols_to_drop, bin_cols=bin_cols+['CUSTOMER_GROUP', 'ONLINE_PURCHASE', 'PRODUCT_GROUP'])\n",
    "customers_scaled.to_csv('dataset/customers_clean.csv', index=False)"
   ]
  },
  {
   "cell_type": "code",
   "execution_count": 46,
   "id": "e0e237eb",
   "metadata": {},
   "outputs": [
    {
     "name": "stdout",
     "output_type": "stream",
     "text": [
      "Cleaning the dataset\n",
      "Mapped OST_WEST_KZ to binary\n",
      "Dummified CAMEO_INTL_2015.\n",
      "Dummified D19_LETZTER_KAUF_BRANCHE.\n",
      "Dummified PRAEGENDE_JUGENDJAHRE.\n",
      "Imputing binary Nans with modes...\n",
      "Imputing numerical Nans with means...\n",
      "Scaling numerical features...\n"
     ]
    }
   ],
   "source": [
    "# pre-process mailout train dataset accordingly, remembering about the additional column that needs to be omitted\n",
    "mailout_train_scaled = prepare_dataset(mailout_train, cols_to_drop=cols_to_drop, bin_cols=bin_cols+['RESPONSE'])\n",
    "mailout_train_scaled.to_csv('dataset/mailout_train_clean.csv', index=False)"
   ]
  },
  {
   "cell_type": "code",
   "execution_count": 47,
   "id": "5e40f248",
   "metadata": {},
   "outputs": [
    {
     "name": "stdout",
     "output_type": "stream",
     "text": [
      "Cleaning the dataset\n",
      "Mapped OST_WEST_KZ to binary\n",
      "Dummified CAMEO_INTL_2015.\n",
      "Dummified D19_LETZTER_KAUF_BRANCHE.\n",
      "Dummified PRAEGENDE_JUGENDJAHRE.\n",
      "Imputing binary Nans with modes...\n",
      "Imputing numerical Nans with means...\n",
      "Scaling numerical features...\n"
     ]
    }
   ],
   "source": [
    "# pre-process mailout test dataset accordingly\n",
    "mailout_test_scaled = prepare_dataset(mailout_test, cols_to_drop=cols_to_drop, bin_cols=bin_cols)\n",
    "mailout_test_scaled.to_csv('dataset/mailout_test_clean.csv', index=False)"
   ]
  },
  {
   "cell_type": "markdown",
   "id": "54fb94f8",
   "metadata": {},
   "source": [
    "We have three cleaned datasets now with almost the same features, except for a couple of customer-specific and campaign-specific ones."
   ]
  },
  {
   "cell_type": "code",
   "execution_count": 48,
   "id": "783492ef",
   "metadata": {},
   "outputs": [
    {
     "data": {
      "text/plain": [
       "{'CUSTOMER_GROUP', 'ONLINE_PURCHASE', 'PRODUCT_GROUP'}"
      ]
     },
     "execution_count": 48,
     "metadata": {},
     "output_type": "execute_result"
    }
   ],
   "source": [
    "set(customers_scaled.columns) - set(azdias_scaled.columns)"
   ]
  },
  {
   "cell_type": "code",
   "execution_count": 49,
   "id": "a1360359",
   "metadata": {},
   "outputs": [
    {
     "data": {
      "text/plain": [
       "{'RESPONSE'}"
      ]
     },
     "execution_count": 49,
     "metadata": {},
     "output_type": "execute_result"
    }
   ],
   "source": [
    "set(mailout_train_scaled.columns) - set(azdias_scaled.columns)"
   ]
  },
  {
   "cell_type": "code",
   "execution_count": 50,
   "id": "25e7c6ee",
   "metadata": {},
   "outputs": [
    {
     "data": {
      "text/plain": [
       "(191652, 370)"
      ]
     },
     "execution_count": 50,
     "metadata": {},
     "output_type": "execute_result"
    }
   ],
   "source": [
    "customers.shape"
   ]
  },
  {
   "cell_type": "markdown",
   "id": "944f086e",
   "metadata": {},
   "source": [
    "The next part of the project includes dimentionality reduction and clusterization. These steps are tackled in the 2_customer_segmentation file."
   ]
  }
 ],
 "metadata": {
  "kernelspec": {
   "display_name": "Python 3 (ipykernel)",
   "language": "python",
   "name": "python3"
  },
  "language_info": {
   "codemirror_mode": {
    "name": "ipython",
    "version": 3
   },
   "file_extension": ".py",
   "mimetype": "text/x-python",
   "name": "python",
   "nbconvert_exporter": "python",
   "pygments_lexer": "ipython3",
   "version": "3.10.2"
  }
 },
 "nbformat": 4,
 "nbformat_minor": 5
}
